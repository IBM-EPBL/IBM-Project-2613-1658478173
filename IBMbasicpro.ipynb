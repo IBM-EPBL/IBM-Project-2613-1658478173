{
  "nbformat": 4,
  "nbformat_minor": 0,
  "metadata": {
    "colab": {
      "provenance": [],
      "authorship_tag": "ABX9TyN0fbkh9BwnoyYovYWIpO1z",
      "include_colab_link": true
    },
    "kernelspec": {
      "name": "python3",
      "display_name": "Python 3"
    },
    "language_info": {
      "name": "python"
    }
  },
  "cells": [
    {
      "cell_type": "markdown",
      "metadata": {
        "id": "view-in-github",
        "colab_type": "text"
      },
      "source": [
        "<a href=\"https://colab.research.google.com/github/IBM-EPBL/IBM-Project-2613-1658478173/blob/main/IBMbasicpro.ipynb\" target=\"_parent\"><img src=\"https://colab.research.google.com/assets/colab-badge.svg\" alt=\"Open In Colab\"/></a>"
      ]
    },
    {
      "cell_type": "markdown",
      "source": [
        "\n",
        "\n",
        "#1.Split this string\n",
        "\n",
        "\n",
        "\n",
        "\n",
        "\n",
        "\n",
        "\n"
      ],
      "metadata": {
        "id": "wnbQevOjMJ0K"
      }
    },
    {
      "cell_type": "code",
      "source": [
        "string=\"Hi there Sam!\"\n",
        "print(string.split())"
      ],
      "metadata": {
        "colab": {
          "base_uri": "https://localhost:8080/"
        },
        "id": "5hYRVi9SNSs3",
        "outputId": "996c045a-ddfa-4ff9-8bab-fd8e73c2439b"
      },
      "execution_count": 1,
      "outputs": [
        {
          "output_type": "stream",
          "name": "stdout",
          "text": [
            "['Hi', 'there', 'Sam!']\n"
          ]
        }
      ]
    },
    {
      "cell_type": "code",
      "source": [],
      "metadata": {
        "id": "GWo8BU2_NK_B"
      },
      "execution_count": null,
      "outputs": []
    },
    {
      "cell_type": "code",
      "execution_count": null,
      "metadata": {
        "id": "j_CCTy4cIl_r"
      },
      "outputs": [],
      "source": []
    },
    {
      "cell_type": "markdown",
      "source": [
        "\n",
        "\n",
        "#2.Use.format()to print the following string\n",
        "\n"
      ],
      "metadata": {
        "id": "Zx8HKir9OsHx"
      }
    },
    {
      "cell_type": "code",
      "source": [
        "planet=\"Earth\"\n",
        "diameter=12742\n",
        "print('The diameter of {} is {} kilometers.'.format(planet,diameter));"
      ],
      "metadata": {
        "colab": {
          "base_uri": "https://localhost:8080/"
        },
        "id": "DXVQixyIPV7g",
        "outputId": "34d76cb1-119f-4471-bf66-d5af77fd7a9a"
      },
      "execution_count": 2,
      "outputs": [
        {
          "output_type": "stream",
          "name": "stdout",
          "text": [
            "The diameter of Earth is 12742 kilometers.\n"
          ]
        }
      ]
    },
    {
      "cell_type": "markdown",
      "source": [
        "\n",
        "\n",
        "#3.In this nest dictionary grab the word \"hello\"\n",
        "\n"
      ],
      "metadata": {
        "id": "BzqONmVfQYe4"
      }
    },
    {
      "cell_type": "code",
      "source": [
        "d = {'k1':[1,2,3,{'tricky':['oh','man','inception',{'target':[1,2,3,'hello']}]}]}\n",
        "print(d['k1'][3][\"tricky\"][3]['target'][3])"
      ],
      "metadata": {
        "colab": {
          "base_uri": "https://localhost:8080/"
        },
        "id": "Fjy-Vch1QiR_",
        "outputId": "e49367bf-633a-4560-fae8-e6e23f7a17a2"
      },
      "execution_count": 3,
      "outputs": [
        {
          "output_type": "stream",
          "name": "stdout",
          "text": [
            "hello\n"
          ]
        }
      ]
    },
    {
      "cell_type": "markdown",
      "source": [
        "\n",
        "\n",
        "#4.1.Create an array of 10 zeros?\n",
        "\n"
      ],
      "metadata": {
        "id": "XJy_HskdRMjv"
      }
    },
    {
      "cell_type": "code",
      "source": [
        "import numpy as np\n",
        "array=np.zeros(10)\n",
        "print(\"An array of 10 zeros:\")\n",
        "print(array)"
      ],
      "metadata": {
        "colab": {
          "base_uri": "https://localhost:8080/"
        },
        "id": "Y6RI4Z_1RauQ",
        "outputId": "dc037db0-b1fa-4ea9-a2dd-a4a4e6ebc2bc"
      },
      "execution_count": 4,
      "outputs": [
        {
          "output_type": "stream",
          "name": "stdout",
          "text": [
            "An array of 10 zeros:\n",
            "[0. 0. 0. 0. 0. 0. 0. 0. 0. 0.]\n"
          ]
        }
      ]
    },
    {
      "cell_type": "markdown",
      "source": [
        "#4.2.Create an array of 10 fives?"
      ],
      "metadata": {
        "id": "tOWiNnMURoDP"
      }
    },
    {
      "cell_type": "code",
      "source": [
        "import numpy as np\n",
        "array=np.ones(10)*5\n",
        "print(\"An array of 10 fives:\")\n",
        "print(array)"
      ],
      "metadata": {
        "id": "X4h2yDzvR2YH"
      },
      "execution_count": null,
      "outputs": []
    },
    {
      "cell_type": "markdown",
      "source": [
        "\n",
        "\n",
        "#5.Create an array of all the even integers from 20 to 35\n",
        "\n"
      ],
      "metadata": {
        "id": "m6cyDipvSJJI"
      }
    },
    {
      "cell_type": "code",
      "source": [
        "import numpy as np\n",
        "array=np.arange(20,36,2)\n",
        "print(\"Array of all the even integers from 20 to 36\")\n",
        "print(array)"
      ],
      "metadata": {
        "colab": {
          "base_uri": "https://localhost:8080/"
        },
        "id": "zYz2yTpDSU5w",
        "outputId": "b941f954-249e-4491-ce95-f65a25387973"
      },
      "execution_count": 6,
      "outputs": [
        {
          "output_type": "stream",
          "name": "stdout",
          "text": [
            "Array of all the even integers from 20 to 36\n",
            "[20 22 24 26 28 30 32 34]\n"
          ]
        }
      ]
    },
    {
      "cell_type": "markdown",
      "source": [
        "\n",
        "\n",
        "#6.Create a 3x3 matrix with values ranging from 0 to 8\n",
        "\n"
      ],
      "metadata": {
        "id": "mJSrnD01SxDQ"
      }
    },
    {
      "cell_type": "code",
      "source": [
        "import numpy as np\n",
        "x =  np.arange(0, 9).reshape(3,3)\n",
        "print(x)"
      ],
      "metadata": {
        "id": "sCC8BMmgTMTu"
      },
      "execution_count": null,
      "outputs": []
    },
    {
      "cell_type": "markdown",
      "source": [
        "\n",
        "\n",
        "#7.Concatinate a and b\n",
        "\n"
      ],
      "metadata": {
        "id": "H4bg95OZT7PX"
      }
    },
    {
      "cell_type": "code",
      "source": [
        "import numpy as np\n",
        "a = np.array([1, 2, 3])\n",
        "print(a)\n",
        "b = np.array([4, 5, 6])\n",
        "print(b)\n",
        "print('\\n---Result of a and b---')\n",
        "print(np.concatenate((a, b)))"
      ],
      "metadata": {
        "id": "eUBYFPB0UJNX"
      },
      "execution_count": null,
      "outputs": []
    },
    {
      "cell_type": "markdown",
      "source": [
        "\n",
        "\n",
        "#8.Create a dataframe with 3 rows and 2 columns\n",
        "\n"
      ],
      "metadata": {
        "id": "e4szfGWmUaOn"
      }
    },
    {
      "cell_type": "code",
      "source": [
        "import pandas as pd\n",
        "data = [['tom', 10], ['nick', 15], ['juli', 14]]\n",
        "df = pd.DataFrame(data, columns=['Name', 'Age'])\n",
        "print(df)"
      ],
      "metadata": {
        "id": "mp8MmeftUq3H"
      },
      "execution_count": null,
      "outputs": []
    },
    {
      "cell_type": "markdown",
      "source": [
        "\n",
        "\n",
        "#9.Generate the series of dates from 1st Jan,2023 to 10th Feb,2023\n",
        "\n"
      ],
      "metadata": {
        "id": "nxYttWgxVK6I"
      }
    },
    {
      "cell_type": "code",
      "source": [
        "import datetime\n",
        "import pandas as pd\n",
        " \n",
        "# initializing date\n",
        "test_date = datetime.datetime.strptime(\"01-01-2023\", \"%d-%m-%Y\")\n",
        " \n",
        "# initializing periods\n",
        "periods = datetime.datetime.strptime(\"10-02-2023\", \"%d-%m-%Y\")\n",
        " \n",
        "date_generated = pd.date_range(test_date, periods)\n",
        "print(date_generated.strftime(\"%d-%m-%Y\"))"
      ],
      "metadata": {
        "id": "STYdAw-lVcxH"
      },
      "execution_count": null,
      "outputs": []
    },
    {
      "cell_type": "markdown",
      "source": [
        "\n",
        "\n",
        "#10.Create 2D list of DataFrame\n",
        "\n"
      ],
      "metadata": {
        "id": "DoWvqLfeVxef"
      }
    },
    {
      "cell_type": "code",
      "source": [
        "import pandas as pd  \n",
        "      \n",
        "lists = [[1, 'aaa', 22], [2, 'bbb', 25], [3, 'ccc', 24]] \n",
        "      \n",
        "df = pd.DataFrame(lists, columns =['ID', 'Name', 'Age']) \n",
        "print(df)"
      ],
      "metadata": {
        "id": "A3In80vbV_1p"
      },
      "execution_count": null,
      "outputs": []
    }
  ]
}